{
 "cells": [
  {
   "cell_type": "code",
   "execution_count": 1,
   "id": "503b57d9",
   "metadata": {},
   "outputs": [],
   "source": [
    "import networkx as nx\n",
    "import ezdxf\n",
    "\n",
    "# 创建示例拓扑结构图\n",
    "G = nx.Graph()\n",
    "G.add_edges_from([(1, 2), (1, 3), (2, 3), (3, 4), (4, 5), (4, 6)])\n",
    "\n",
    "# 创建DXF图\n",
    "doc = ezdxf.new()\n",
    "msp = doc.modelspace()\n",
    "\n",
    "# 将节点和边添加到DXF图中\n",
    "node_positions = nx.spring_layout(G)  # 选择一种布局算法\n",
    "for node, pos in node_positions.items():\n",
    "    msp.add_circle(center=(pos[0], pos[1]), radius=0.05, dxfattribs={'layer': 'Nodes'})\n",
    "    for neighbor in G.neighbors(node):\n",
    "        neighbor_pos = node_positions[neighbor]\n",
    "        msp.add_line(start=(pos[0], pos[1]), end=(neighbor_pos[0], neighbor_pos[1]), dxfattribs={'layer': 'Edges'})\n",
    "\n",
    "# 保存DXF文件\n",
    "doc.saveas(\"topology.dxf\")\n"
   ]
  },
  {
   "cell_type": "code",
   "execution_count": 4,
   "id": "14ade556",
   "metadata": {},
   "outputs": [
    {
     "ename": "TypeError",
     "evalue": "add_viewport() got an unexpected keyword argument 'width'",
     "output_type": "error",
     "traceback": [
      "\u001b[1;31m---------------------------------------------------------------------------\u001b[0m",
      "\u001b[1;31mTypeError\u001b[0m                                 Traceback (most recent call last)",
      "Cell \u001b[1;32mIn[4], line 23\u001b[0m\n\u001b[0;32m     21\u001b[0m \u001b[38;5;66;03m# 手动设置绘图范围以适应A4纸张大小（210mm x 297mm）\u001b[39;00m\n\u001b[0;32m     22\u001b[0m layout \u001b[38;5;241m=\u001b[39m doc\u001b[38;5;241m.\u001b[39mlayout()\n\u001b[1;32m---> 23\u001b[0m viewport \u001b[38;5;241m=\u001b[39m \u001b[43mlayout\u001b[49m\u001b[38;5;241;43m.\u001b[39;49m\u001b[43madd_viewport\u001b[49m\u001b[43m(\u001b[49m\u001b[43mcenter\u001b[49m\u001b[38;5;241;43m=\u001b[39;49m\u001b[43m(\u001b[49m\u001b[38;5;241;43m105\u001b[39;49m\u001b[43m,\u001b[49m\u001b[43m \u001b[49m\u001b[38;5;241;43m148.5\u001b[39;49m\u001b[43m)\u001b[49m\u001b[43m,\u001b[49m\u001b[43m \u001b[49m\u001b[43mwidth\u001b[49m\u001b[38;5;241;43m=\u001b[39;49m\u001b[38;5;241;43m210\u001b[39;49m\u001b[43m,\u001b[49m\u001b[43m \u001b[49m\u001b[43mheight\u001b[49m\u001b[38;5;241;43m=\u001b[39;49m\u001b[38;5;241;43m297\u001b[39;49m\u001b[43m)\u001b[49m\n\u001b[0;32m     24\u001b[0m viewport\u001b[38;5;241m.\u001b[39mdxf\u001b[38;5;241m.\u001b[39mview_target \u001b[38;5;241m=\u001b[39m (\u001b[38;5;241m105\u001b[39m, \u001b[38;5;241m148.5\u001b[39m, \u001b[38;5;241m0\u001b[39m)  \u001b[38;5;66;03m# 设置视点\u001b[39;00m\n\u001b[0;32m     25\u001b[0m viewport\u001b[38;5;241m.\u001b[39mdxf\u001b[38;5;241m.\u001b[39mview_height \u001b[38;5;241m=\u001b[39m \u001b[38;5;241m297\u001b[39m  \u001b[38;5;66;03m# 设置视口高度\u001b[39;00m\n",
      "\u001b[1;31mTypeError\u001b[0m: add_viewport() got an unexpected keyword argument 'width'"
     ]
    }
   ],
   "source": [
    "import networkx as nx\n",
    "import ezdxf\n",
    "\n",
    "# 创建示例拓扑结构图\n",
    "G = nx.Graph()\n",
    "G.add_edges_from([(1, 2), (1, 3), (2, 3), (3, 4), (4, 5), (4, 6)])\n",
    "\n",
    "# 创建DXF图\n",
    "doc = ezdxf.new()\n",
    "msp = doc.modelspace()\n",
    "\n",
    "# 绘制拓扑结构图\n",
    "node_positions = nx.spring_layout(G)  # 选择一种布局算法\n",
    "scale_factor = 1.0  # 不进行缩放\n",
    "for node, pos in node_positions.items():\n",
    "    msp.add_circle(center=(pos[0], pos[1]), radius=0.05, dxfattribs={'layer': 'Nodes'})\n",
    "    for neighbor in G.neighbors(node):\n",
    "        neighbor_pos = node_positions[neighbor]\n",
    "        msp.add_line(start=(pos[0], pos[1]), end=(neighbor_pos[0], neighbor_pos[1]), dxfattribs={'layer': 'Edges'})\n",
    "\n",
    "# 手动设置绘图范围以适应A4纸张大小（210mm x 297mm）\n",
    "layout = doc.layout()\n",
    "viewport = layout.add_viewport(center=(105, 148.5), width=210, height=297)\n",
    "viewport.dxf.view_target = (105, 148.5, 0)  # 设置视点\n",
    "viewport.dxf.view_height = 297  # 设置视口高度\n",
    "\n",
    "# 保存DXF文件\n",
    "doc.saveas(\"topology_a4.dxf\")\n"
   ]
  },
  {
   "cell_type": "code",
   "execution_count": null,
   "id": "f1c59747",
   "metadata": {},
   "outputs": [],
   "source": []
  }
 ],
 "metadata": {
  "kernelspec": {
   "display_name": "Python 3 (ipykernel)",
   "language": "python",
   "name": "python3"
  },
  "language_info": {
   "codemirror_mode": {
    "name": "ipython",
    "version": 3
   },
   "file_extension": ".py",
   "mimetype": "text/x-python",
   "name": "python",
   "nbconvert_exporter": "python",
   "pygments_lexer": "ipython3",
   "version": "3.8.17"
  }
 },
 "nbformat": 4,
 "nbformat_minor": 5
}
